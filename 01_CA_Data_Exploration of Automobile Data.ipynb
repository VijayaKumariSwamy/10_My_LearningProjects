{
 "cells": [
  {
   "cell_type": "code",
   "execution_count": 1,
   "metadata": {},
   "outputs": [],
   "source": [
    "# 01_CA_Data_Exploration of Automobile Data"
   ]
  },
  {
   "cell_type": "code",
   "execution_count": 2,
   "metadata": {},
   "outputs": [],
   "source": [
    "# Cars contain 50 or more sensors which collect data on speed, emissions, fuel consumption, usage data for resources, and security. All these data can be used to find patterns and resolve quality issues either in the nick of time or prevent them from happening altogether. Analytics is being used to increase both customer satisfaction and quality management at a cost-effective level. In this session we are doing some basic analysis of automobile data which the learners can further expand on.\n",
    "\n",
    "# Data Set 1 Information:\n",
    "# This data set consists of three types of entities:\n",
    "\n",
    "# (a) the specification of an auto in terms of various characteristics\n",
    "# (b) its assigned insurance risk rating\n",
    "# (c) its normalized losses in use as compared to other cars.\n",
    "\n",
    "# The second rating corresponds to the degree to which the auto is more risky than its price indicates. Cars are initially assigned a risk factor symbol associated with its price. Then, if it is more risky (or less), this symbol is adjusted by moving it up (or down) the scale. Actuarians call this process \"symboling\". A value of +3 indicates that the auto is risky, -3 that it is probably pretty safe.\n",
    "# The third factor is the relative average loss payment per insured vehicle year. This value is normalized for all autos within a particular size classification (two-door small, station wagons, sports/speciality, etc...), and represents the average loss per car per year.\n",
    "\n",
    "# Note: Several of the attributes in the database could be used as a \"class\" attribute.\n",
    "\n",
    "# No of instances : 205\n",
    "# No of attributes : 26\n",
    "\n",
    "# Data set 2 information:\n",
    "# The data consists of technical specifications of cars. The dataset is downloaded from UCI Machine Learning Repository\n",
    "# Content: The data concerns city-cycle fuel consumption in miles per gallon, to be predicted in terms of 3 multivalued discrete and 5 continuous attributes\n",
    "\n",
    "# Number of Instances: 398\n",
    "\n",
    "# Number of Attributes: 9 including the class attribute\n",
    "\n",
    "# Attribute Information:\n",
    "# mpg: continuous\n",
    "# cylinders: multi-valued discrete\n",
    "# displacement: continuous\n",
    "# horsepower: continuous\n",
    "# weight: continuous\n",
    "# acceleration: continuous\n",
    "# model year: multi-valued discrete\n",
    "# origin: multi-valued discrete\n",
    "# car name: string (unique for each instance)\n",
    "# Missing Attribute Values: horsepower has 6 missing values"
   ]
  },
  {
   "cell_type": "code",
   "execution_count": null,
   "metadata": {},
   "outputs": [],
   "source": []
  }
 ],
 "metadata": {
  "kernelspec": {
   "display_name": "Python 3",
   "language": "python",
   "name": "python3"
  },
  "language_info": {
   "codemirror_mode": {
    "name": "ipython",
    "version": 3
   },
   "file_extension": ".py",
   "mimetype": "text/x-python",
   "name": "python",
   "nbconvert_exporter": "python",
   "pygments_lexer": "ipython3",
   "version": "3.7.4"
  }
 },
 "nbformat": 4,
 "nbformat_minor": 2
}
